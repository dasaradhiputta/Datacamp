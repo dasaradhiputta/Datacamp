{
  "nbformat": 4,
  "nbformat_minor": 0,
  "metadata": {
    "colab": {
      "provenance": []
    },
    "kernelspec": {
      "name": "python3",
      "display_name": "Python 3"
    },
    "language_info": {
      "name": "python"
    }
  },
  "cells": [
    {
      "cell_type": "markdown",
      "source": [
        "# Sales in a Dash app\n",
        "\n",
        "Your Plotly graphs are making a great impact at the company. However, it is difficult to share your work with other colleagues. You are constantly having to export your graphs as images or HTML files, and when there's a new version, you need to send many emails.\n",
        "\n",
        "It would be better if you could serve up the graphs you create as a web application. You decide to try this out on your line graph of monthly sales by country.\n",
        "\n",
        "The ecom_sales dataset is available, and line_fig has been recreated for you.\n",
        "\n",
        "As a reminder, in this course, you must include __name__ inside dash.Dash() for the app to run, but in your own projects, you can leave this out.\n"
      ],
      "metadata": {
        "id": "gJ2ivW5CClx4"
      }
    },
    {
      "cell_type": "code",
      "execution_count": null,
      "metadata": {
        "id": "9BaphVe9ChdU"
      },
      "outputs": [],
      "source": [
        "import dash\n",
        "import dash_core_components as dcc\n",
        "import pandas as pd\n",
        "import plotly.express as px\n",
        "ecom_sales = pd.read_csv('/usr/local/share/datasets/ecom_sales.csv')\n",
        "ecom_sales = ecom_sales.groupby(['Year-Month','Country'])['OrderValue'].agg('sum').reset_index(name='Total Sales ($)')\n",
        "line_fig = px.line(data_frame=ecom_sales, x='Year-Month', y='Total Sales ($)', title='Total Sales by Month', color='Country')\n",
        "\n",
        "# Create the Dash app\n",
        "app = dash.Dash(__name__)\n",
        "\n",
        "# Set up the layout with a single graph\n",
        "app.layout = dcc.Graph(\n",
        "  id='my-line-graph',\n",
        "  # Insert the line graph\n",
        "  figure=line_fig)\n",
        "\n",
        "# Set the app to run in development mode\n",
        "if __name__ == '__main__':\n",
        "    app.run_server(debug=True)"
      ]
    },
    {
      "cell_type": "markdown",
      "source": [
        "## Combining HTML and Dash\n",
        "\n",
        "Building on your recent graph work for the e-commerce company, you want to be able to show them both of the graphs in a single dashboard.\n",
        "\n",
        "Luckily you have been working on your basic HTML positioning in Dash and have mastered the .Div() structural element. With these powerful tools in your hand, you can take your dashboard to the next level and create a Dash application to serve up both the line and bar graph you previously created. Since this is now a proper dashboard, it would be good to add a title at the top as well.\n",
        "\n",
        "The line and bar graphs (line_graph and bar_graph) have been recreated for you."
      ],
      "metadata": {
        "id": "iv90oRWMCwov"
      }
    },
    {
      "cell_type": "code",
      "source": [
        "import dash\n",
        "import dash_core_components as dcc\n",
        "import dash_html_components as html\n",
        "import pandas as pd\n",
        "import plotly.express as px\n",
        "ecom_sales = pd.read_csv('/usr/local/share/datasets/ecom_sales.csv')\n",
        "ecom_line = ecom_sales.groupby(['Year-Month','Country'])['OrderValue'].agg('sum').reset_index(name='Total Sales ($)')\n",
        "ecom_bar = ecom_sales.groupby('Country')['OrderValue'].agg('sum').reset_index(name='Total Sales ($)')\n",
        "line_graph = px.line(data_frame=ecom_line, x='Year-Month', y='Total Sales ($)', title='Total Sales by Month', color='Country')\n",
        "bar_graph = px.bar(data_frame=ecom_bar, x='Total Sales ($)', y='Country', orientation='h',title='Total Sales by Country')\n",
        "\n",
        "# Create the Dash app\n",
        "app = dash.Dash(__name__)\n",
        "\n",
        "# Set up the layout using an overall div\n",
        "app.layout = html.Div(\n",
        "    children=[\n",
        "  # Add a H1\n",
        "  html.H1('Sales by Country & Over Time'),\n",
        "  # Add both graphs\n",
        "  dcc.Graph(id='line_graph', figure=line_graph),\n",
        "  dcc.Graph(id='bar_graph', figure=bar_graph)\n",
        "  ])"
      ],
      "metadata": {
        "id": "fr89dv34CxTu"
      },
      "execution_count": null,
      "outputs": []
    },
    {
      "cell_type": "markdown",
      "source": [
        "## A draft sales dashboard\n",
        "\n",
        "Given your great work so far with the e-commerce company, they have asked you to jump on board and help them completely replace their existing dashboards that require proprietary software and are costing the organization a mountain of money each month.\n",
        "\n",
        "This won't be the final product; they want a rough draft of what is possible using Dash. They would like a line chart of their total sales each month, as well as a bar chart of their total sales in each country. It would be good to throw in a high-level summary statistic such as which month was the largest order volume.\n",
        "\n",
        "Your task is to create a quick dashboard using Plotly plots stacked on top of each other."
      ],
      "metadata": {
        "id": "hDN5_LccC5Gv"
      }
    },
    {
      "cell_type": "code",
      "source": [
        "import dash\n",
        "import dash_core_components as dcc\n",
        "import dash_html_components as html\n",
        "import plotly.express as px\n",
        "import pandas as pd\n",
        "ecom_sales = pd.read_csv('/usr/local/share/datasets/ecom_sales.csv')\n",
        "ecom_line = ecom_sales.groupby('Year-Month')['OrderValue'].agg('sum').reset_index(name='Total Sales ($)')\n",
        "line_fig = px.line(data_frame=ecom_line, x='Year-Month', y='Total Sales ($)', title='Total Sales by Month')\n",
        "ecom_bar = ecom_sales.groupby('Country')['OrderValue'].agg('sum').reset_index(name='Total Sales ($)')\n",
        "max_country = ecom_bar.sort_values(by='Total Sales ($)', ascending=False).loc[0]['Country']\n",
        "bar_fig = px.bar(data_frame=ecom_bar, x='Total Sales ($)', y='Country', orientation='h', title='Total Sales by Country')\n",
        "\n",
        "app = dash.Dash(__name__)\n",
        "\n",
        "# Create the dash layout and overall div\n",
        "app.layout = html.Div(children=[\n",
        "    html.H1('Sales Figures'), \n",
        "    # Add a div containing the line figure\n",
        "    html.Div(dcc.Graph(id='my-line-fig', figure=line_fig)), \n",
        "    # Add a div containing the bar figure\n",
        "    html.Div(dcc.Graph(id='my-bar-fig', figure=bar_fig)), \n",
        "    # Add the H3\n",
        "    html.H3(f'The largest country by sales was {max_country}')\n",
        "    ])\n",
        "\n",
        "if __name__ == '__main__':\n",
        "    app.run_server(debug=True)"
      ],
      "metadata": {
        "id": "gljXZljFC5Aw"
      },
      "execution_count": null,
      "outputs": []
    }
  ]
}