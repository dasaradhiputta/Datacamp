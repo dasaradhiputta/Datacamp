{
  "nbformat": 4,
  "nbformat_minor": 0,
  "metadata": {
    "colab": {
      "provenance": []
    },
    "kernelspec": {
      "name": "python3",
      "display_name": "Python 3"
    },
    "language_info": {
      "name": "python"
    }
  },
  "cells": [
    {
      "cell_type": "markdown",
      "source": [
        "## Adding logos and notes\n",
        "\n",
        "While a picture (or a graph!) is worth a thousand words; sometimes there is a need to add more explanatory notes to a dashboard. Luckily you have been working on your skills to add and format text as well as add images and further structure to your Dash apps.\n",
        "\n",
        "Let's create a dashboard that includes the company logo, a single graph then some brief explanatory notes."
      ],
      "metadata": {
        "id": "b52Fnb6oIKno"
      }
    },
    {
      "cell_type": "code",
      "source": [
        "import dash\n",
        "import dash_core_components as dcc\n",
        "import dash_html_components as html\n",
        "import plotly.express as px\n",
        "import pandas as pd\n",
        "ecom_sales = pd.read_csv('/usr/local/share/datasets/ecom_sales.csv')\n",
        "logo_link = 'https://assets.datacamp.com/production/repositories/5893/datasets/2bac9433b0e904735feefa26ca913fba187c0d55/e_com_logo.png'\n",
        "ecom_bar = ecom_sales.groupby('Country')['OrderValue'].agg('sum').reset_index(name='Total Sales ($)').sort_values(by='Total Sales ($)', ascending=False)\n",
        "top_country = ecom_bar.loc[0]['Country']            \n",
        "bar_fig_country = px.bar(ecom_bar, x='Total Sales ($)', y='Country', color='Country', color_discrete_map={'United Kingdom':'lightblue', 'Germany':'orange', 'France':'darkblue', 'Australia':'green', 'Hong Kong':'red'})         \n",
        "    \n",
        "app = dash.Dash(__name__)\n",
        "\n",
        "app.layout = html.Div([\n",
        "  # Add the company logo\n",
        "  html.Img(src=logo_link),\n",
        "  html.H1('Sales by Country'),\n",
        "  html.Div(dcc.Graph(figure=bar_fig_country), \n",
        "           style={'width':'750px', 'margin':'auto'}),\n",
        "  # Add an overall text-containing component\n",
        "  html.Span(children=[\n",
        "    # Add the top country text\n",
        "    'This year, the most sales came from: ', \n",
        "    html.B(top_country),\n",
        "    # Italicize copyright notice\n",
        "    html.I(' Copyright E-Com INC')])\n",
        "    ], \n",
        "  style={'text-align':'center', 'font-size':22})\n",
        "\n",
        "if __name__ == '__main__':\n",
        "    app.run_server(debug=True)"
      ],
      "metadata": {
        "id": "xP59_E5HIKuf"
      },
      "execution_count": null,
      "outputs": []
    },
    {
      "cell_type": "markdown",
      "source": [
        "## Adding an HTML list to Dash\n",
        "\n",
        "While working at your desk, someone from the Marketing department saw the last little dashboard you produced and have asked you to create one for them. They would like a bar chart of the top categories by total sales amount but with a list below that notes the top few categories for a quick glance.\n",
        "\n",
        "They also have a few stylistic notes - but they all seem within your knowledge base given your recent work in HTML and Dash.\n",
        "\n",
        "Your task is to extend the dashboard you created to include a list of the top categories and their sales volume."
      ],
      "metadata": {
        "id": "uJvr6bHAI0t_"
      }
    },
    {
      "cell_type": "code",
      "source": [
        "import dash\n",
        "import dash_core_components as dcc\n",
        "import dash_html_components as html\n",
        "import plotly.express as px\n",
        "import pandas as pd\n",
        "ecom_sales = pd.read_csv('/usr/local/share/datasets/ecom_sales.csv')\n",
        "logo_link = 'https://assets.datacamp.com/production/repositories/5893/datasets/2bac9433b0e904735feefa26ca913fba187c0d55/e_com_logo.png'\n",
        "ecom_category = ecom_sales.groupby(['Major Category','Minor Category']).size().reset_index(name='Total Orders').sort_values(by='Total Orders', ascending=False).reset_index(drop=True)\n",
        "num1_cat, num1_salesvol = ecom_category.loc[0].tolist()[1:3]\n",
        "num2_cat, num2_salesvol = ecom_category.loc[1].tolist()[1:3]\n",
        "ecom_bar = px.bar(ecom_category, x='Total Orders', y='Minor Category', color='Major Category')\n",
        "ecom_bar.update_layout({'yaxis':{'dtick':1, 'categoryorder':'total ascending'}})             \n",
        "\n",
        "app = dash.Dash(__name__)\n",
        "\n",
        "app.layout = html.Div([\n",
        "    html.Img(src=logo_link),\n",
        "    html.H1('Top Sales Categories'),\n",
        "    html.Div(dcc.Graph(figure=ecom_bar)),\n",
        "    html.Span(children=[\n",
        "    'The top 2 sales categories were:',\n",
        "    # Set up an ordered list\n",
        "    html.Ol(children=[\n",
        "      \t# Add two list elements with the top category variables\n",
        "        html.Li(children=[num1_cat, ' with ', num1_salesvol, ' sales volume']),\n",
        "        html.Li(children=[num2_cat, ' with ', num2_salesvol, ' sales volume'])\n",
        "    ], style={'width':'350px', 'margin':'auto'}),\n",
        "    # Add a line break before the copyright notice\n",
        "    html.Br(),\n",
        "    html.I('Copyright E-Com INC')])\n",
        "    ], style={'text-align':'center', 'font-size':22})\n",
        "\n",
        "if __name__ == '__main__':\n",
        "    app.run_server(debug=True)"
      ],
      "metadata": {
        "id": "3CGV99A2I00X"
      },
      "execution_count": null,
      "outputs": []
    },
    {
      "cell_type": "markdown",
      "source": [
        "## Styling a Dash app with CSS\n",
        "\n",
        "It's time to take your dashboards to the next level by unleashing the power of CSS. You have been thinking about ways to spruce up the marketing dashboard you created and have a few ideas to demonstrate to the business stakeholder.\n",
        "\n",
        "It would be good to adjust the size of the graph and logo, as well as add some nice background colors to various elements. That ought to jazz it up!"
      ],
      "metadata": {
        "id": "mrNm4TZBKMyf"
      }
    },
    {
      "cell_type": "code",
      "source": [
        "import dash\n",
        "import dash_core_components as dcc\n",
        "import dash_html_components as html\n",
        "import plotly.express as px\n",
        "import pandas as pd\n",
        "ecom_sales = pd.read_csv('/usr/local/share/datasets/ecom_sales.csv')\n",
        "logo_link = 'https://assets.datacamp.com/production/repositories/5893/datasets/2bac9433b0e904735feefa26ca913fba187c0d55/e_com_logo.png'\n",
        "ecom_category = ecom_sales.groupby(['Major Category','Minor Category']).size().reset_index(name='Total Orders').sort_values(by='Total Orders', ascending=False).reset_index(drop=True)\n",
        "top_cat = ecom_category.loc[0]['Minor Category']\n",
        "ecom_bar = px.bar(ecom_category, x='Total Orders', y='Minor Category', color='Major Category')\n",
        "ecom_bar.update_layout({'yaxis':{'dtick':1, 'categoryorder':'total ascending'}, 'paper_bgcolor':'rgb(224, 255, 252)'})         \n",
        "\n",
        "app = dash.Dash(__name__)\n",
        "\n",
        "app.layout = html.Div([\n",
        "    html.Img(src=logo_link,\n",
        "    # Set the size of the logo\n",
        "    style={'width':'215px', 'height':'240px'} \n",
        "    ),\n",
        "    html.H1('Top Sales Categories'),\n",
        "    # Set the size of the bar graph\n",
        "    html.Div(dcc.Graph(figure=ecom_bar, \n",
        "                       style={'width':'500px', 'height':'350px', 'margin':'auto'}),\n",
        "    ),\n",
        "    html.Br(),\n",
        "    html.Span(children=[\n",
        "    'The top category was: ',\n",
        "    html.B(top_cat),\n",
        "    html.Br(),\n",
        "    html.I('Copyright E-Com INC',\n",
        "    # Add a background color to the copyright notice\n",
        "    style={'background-color': 'lightgrey'})])\n",
        "    # Add a background color to the entire app\n",
        "    ], style={'text-align':'center', 'font-size':22, 'background-color':'rgb(224,255,252)'})\n",
        "\n",
        "if __name__ == '__main__':\n",
        "    app.run_server(debug=True)"
      ],
      "metadata": {
        "id": "dbQZEt5GKM4f"
      },
      "execution_count": null,
      "outputs": []
    },
    {
      "cell_type": "markdown",
      "source": [
        "## Switching to Darkmode\n",
        "\n",
        "A common trend in software products and web pages is having a 'Dark Mode', which is easier on the eyes and preferred by some people. Dark Mode is where the background of elements are black, and the text color for everything is white.\n",
        "\n",
        "Your task is take the dashboard you created in the last exercise and switch it over to the 'dark side'. This will involve changing the background and text color on your graph and HTML elements.\n",
        "\n",
        "Most of the last dashboard has been provided, including the creation of necessary graphs. However, there is key work to be done to switch over the dashboard to Dark Mode. You can use words for the colors in this exercise rather than RGB codes."
      ],
      "metadata": {
        "id": "mdUOY71xML0v"
      }
    },
    {
      "cell_type": "code",
      "source": [
        "import dash\n",
        "import dash_core_components as dcc\n",
        "import dash_html_components as html\n",
        "import plotly.express as px\n",
        "import pandas as pd\n",
        "ecom_sales = pd.read_csv('/usr/local/share/datasets/ecom_sales.csv')\n",
        "logo_link = 'https://assets.datacamp.com/production/repositories/5893/datasets/1c95273e21a54b5ca48e0b03cc0c1faeafb3d7cd/e-comlogo_white.png'\n",
        "ecom_category = ecom_sales.groupby(['Major Category','Minor Category']).size().reset_index(name='Total Orders').sort_values(by='Total Orders', ascending=False).reset_index(drop=True)\n",
        "top_cat = ecom_category.loc[0]['Minor Category']\n",
        "ecom_bar = px.bar(ecom_category, x='Total Orders', y='Minor Category', color='Major Category')\n",
        "\n",
        "# Set the font color of the bar chart\n",
        "ecom_bar.update_layout({'yaxis':{'dtick':1, 'categoryorder':'total ascending'}, 'paper_bgcolor':'black', 'font': {'color':'white'}})\n",
        "\n",
        "app = dash.Dash(__name__)\n",
        "\n",
        "app.layout = html.Div([\n",
        "    # Set the new white-text image\n",
        "    html.Img(src=logo_link,\n",
        "    style={'width':'165px', 'height':'50px'}),\n",
        "    html.H1('Top Sales Categories'),\n",
        "    html.Div(dcc.Graph(figure=ecom_bar,style={'width':'500px', 'height':'350px', 'margin':'auto'})),\n",
        "    html.Br(),\n",
        "    html.Span(children=[\n",
        "    'The top category was: ',\n",
        "    html.B(top_cat),\n",
        "    html.Br(),\n",
        "    html.I('Copyright E-Com INC')])\n",
        "    ], style={'text-align':'center', 'font-size':22,\n",
        "              # Update the background color to the entire app\n",
        "              'background-color':'black',\n",
        "              # Change the text color for the whole app\n",
        "              'color':'white'\n",
        "               })\n",
        "\n",
        "if __name__ == '__main__':\n",
        "    app.run_server(debug=True)"
      ],
      "metadata": {
        "id": "YnDQ9NkDML5W"
      },
      "execution_count": null,
      "outputs": []
    },
    {
      "cell_type": "markdown",
      "source": [
        "## A refined sales dashboard\n",
        "\n",
        "The e-commerce company from Chapter 1 has called you up and has a budget for you to extend the previous work you did, building a basic proof-of-concept sales dashboard.\n",
        "\n",
        "Now that you have built your skills in styling and positioning, you can really make this dashboard presentation-worthy.\n",
        "\n",
        "As a reminder, the company would like a line chart of their total sales each month, a bar chart of their total sales in each country, and a high-level summary statistic around the highest order quantity for the period. However, they would prefer these side-by-side, and their corporate style guide asks for light blue backgrounds. They have requested for there to be two logos, one on either side of the main title, so their brand is nice and prominent."
      ],
      "metadata": {
        "id": "BWjNowqNMyo3"
      }
    },
    {
      "cell_type": "code",
      "source": [
        "import dash\n",
        "import dash_core_components as dcc\n",
        "import dash_html_components as html\n",
        "import plotly.express as px\n",
        "import pandas as pd\n",
        "logo_link = 'https://assets.datacamp.com/production/repositories/5893/datasets/fdbe0accd2581a0c505dab4b29ebb66cf72a1803/e-comlogo.png'\n",
        "ecom_sales = pd.read_csv('/usr/local/share/datasets/ecom_sales.csv')\n",
        "ecom_line = ecom_sales.groupby('Year-Month')['OrderValue'].agg('sum').reset_index(name='TotalSales')\n",
        "line_fig = px.line(data_frame=ecom_line, x='Year-Month', y='TotalSales',title='Total Sales by Month')\n",
        "line_fig.update_layout({'paper_bgcolor':'rgb(224, 255, 252)' }) \n",
        "ecom_bar = ecom_sales.groupby('Country')['OrderValue'].agg('sum').reset_index(name='TotalSales')\n",
        "bar_fig = px.bar(data_frame=ecom_bar, x='TotalSales', y='Country', orientation='h',title='Total Sales by Country')\n",
        "bar_fig.update_layout({'yaxis':{'dtick':1, 'categoryorder':'total ascending'}, 'paper_bgcolor':'rgb(224, 255, 252)'}) \n",
        "\n",
        "app = dash.Dash(__name__)\n",
        "\n",
        "app.layout = html.Div(children=[\n",
        "    html.Div(children=[\n",
        "      html.Img(src=logo_link, \n",
        "               # Place the logo side-by-side the H1 with required margin\n",
        "               style={'display':'inline-block', 'margin':'25px'}),\n",
        "      html.H1(children=['Sales Figures'],\n",
        "              # Make the H1 side-by-side with the logos\n",
        "              style={'display':'inline-block'}), \n",
        "      html.Img(src=logo_link,\n",
        "               # Place the logo side-by-side the H1 with required margin\n",
        "               style={'display':'inline-block', 'margin':'25px'})]),\n",
        "    html.Div(\n",
        "        dcc.Graph(figure=line_fig), \n",
        "        # Ensure graphs are correct size, side-by-side with required margin\n",
        "        style={'width':'500px', 'display':'inline-block', 'margin':'5px'}), \n",
        "    html.Div(\n",
        "      \tdcc.Graph(figure=bar_fig),\n",
        "        # Ensure graphs are correct size, side-by-side with required margin\n",
        "    \tstyle={'width':'350px', 'display':'inline-block', 'margin':'5px'}), \n",
        "    html.H3(f'The largest order quantity was {ecom_sales.Quantity.max()}')\n",
        "    ],style={'text-align':'center', 'font-size':22, 'background-color':'rgb(224, 255, 252)'})\n",
        "\n",
        "if __name__ == '__main__':\n",
        "    app.run_server(debug=True)"
      ],
      "metadata": {
        "id": "0p0jOoCcMyuK"
      },
      "execution_count": null,
      "outputs": []
    },
    {
      "cell_type": "markdown",
      "source": [
        "## Controlling object layout\n",
        "\n",
        "Your work with Dash is really having an impact in your organization. However, a colleague has contacted you about an issue they are having with one of their dashboards. Their envisioned dashboard has the company logo up the top, followed by two bar charts next to each other.\n",
        "\n",
        "But the logo is too close to the top, and the graphs are stacked on top of each other. What a mess!\n",
        "\n",
        "You think you can use your knowledge of CSS to help wrangle these objects into place."
      ],
      "metadata": {
        "id": "j1SO10uTQhDQ"
      }
    },
    {
      "cell_type": "code",
      "source": [
        "import dash\n",
        "import dash_core_components as dcc\n",
        "import dash_html_components as html\n",
        "import plotly.express as px\n",
        "import pandas as pd\n",
        "ecom_sales = pd.read_csv('/usr/local/share/datasets/ecom_sales.csv')\n",
        "logo_link = 'https://assets.datacamp.com/production/repositories/5893/datasets/fdbe0accd2581a0c505dab4b29ebb66cf72a1803/e-comlogo.png'\n",
        "ecom_bar_major_cat = ecom_sales.groupby('Major Category')['OrderValue'].agg('sum').reset_index(name='Total Sales ($)')\n",
        "ecom_bar_minor_cat = ecom_sales.groupby('Minor Category')['OrderValue'].agg('sum').reset_index(name='Total Sales ($)')\n",
        "bar_fig_major_cat = px.bar(ecom_bar_major_cat, x='Total Sales ($)', y='Major Category', color='Major Category', color_discrete_map={'Clothes':'blue','Kitchen':'red','Garden':'green','Household':'yellow'})\n",
        "bar_fig_minor_cat = px.bar(ecom_bar_minor_cat, x='Total Sales ($)', y='Minor Category')                    \n",
        "\n",
        "app = dash.Dash(__name__)\n",
        "\n",
        "app.layout = html.Div([\n",
        "  html.Img(src=logo_link,\n",
        "        # Add margin to the logo\n",
        "        style={'margin':'30px 0px 0px 0px'}),\n",
        "  html.H1('Sales breakdowns'),\n",
        "  html.Div(children=[\n",
        "      dcc.Graph(\n",
        "        # Style the graphs to appear side-by-side\n",
        "        figure=bar_fig_major_cat,\n",
        "        style={'display':'inline-block'}),\n",
        "      dcc.Graph(\n",
        "        figure=bar_fig_minor_cat,\n",
        "        style={'display':'inline-block'}),\n",
        "  ]),\n",
        "  html.H2('Major Category',\n",
        "        # Style the titles to appear side-by-side with a 2 pixel border\n",
        "        style={'display':'inline-block', 'border':'2px solid black',\n",
        "        # Style the titles to have the correct spacings       \n",
        "               'padding':'10px', 'margin':'10px 220px'}),\n",
        "  html.H2('Minor Category',\n",
        "        # Style the titles to appear side-by-side with a 2 pixel border\n",
        "        style={'display':'inline-block', 'border':'2px solid black',\n",
        "        # Style the titles to have the correct spacings \n",
        "               'padding':'10px', 'margin':'10px 220px'}),\n",
        "  \n",
        "  ], style={'text-align':'center', 'font-size':22})\n",
        "\n",
        "if __name__ == '__main__':\n",
        "    app.run_server(debug=True)"
      ],
      "metadata": {
        "id": "wuNER-anQhKO"
      },
      "execution_count": null,
      "outputs": []
    },
    {
      "cell_type": "markdown",
      "source": [],
      "metadata": {
        "id": "Tfk5K7gJSklA"
      }
    },
    {
      "cell_type": "code",
      "source": [],
      "metadata": {
        "id": "0papQylNSks2"
      },
      "execution_count": null,
      "outputs": []
    }
  ]
}