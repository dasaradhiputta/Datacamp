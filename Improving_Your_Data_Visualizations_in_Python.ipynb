{
  "nbformat": 4,
  "nbformat_minor": 0,
  "metadata": {
    "colab": {
      "provenance": [],
      "toc_visible": true,
      "authorship_tag": "ABX9TyNpZgndndjtPJETPAoGqjy2",
      "include_colab_link": true
    },
    "kernelspec": {
      "name": "python3",
      "display_name": "Python 3"
    },
    "language_info": {
      "name": "python"
    }
  },
  "cells": [
    {
      "cell_type": "markdown",
      "metadata": {
        "id": "view-in-github",
        "colab_type": "text"
      },
      "source": [
        "<a href=\"https://colab.research.google.com/github/dasaradhiputta/Datacamp-Courses/blob/main/Improving_Your_Data_Visualizations_in_Python.ipynb\" target=\"_parent\"><img src=\"https://colab.research.google.com/assets/colab-badge.svg\" alt=\"Open In Colab\"/></a>"
      ]
    },
    {
      "cell_type": "markdown",
      "source": [
        "# Highlighting your Data"
      ],
      "metadata": {
        "id": "C-KTqsX3u0jO"
      }
    },
    {
      "cell_type": "markdown",
      "source": [
        "## Hardcoding a highlight\n",
        "\n",
        "You are working with the city of Houston to look at the relationship between sulfur dioxide (SO2) and nitrogen dioxide (NO2) pollution, specifically, pollution in the most recent year data was collected (2014). You have singled out a particularly bad day, November 26th, where there was a bad spike in the SO2 levels. To draw the viewers attention to this bad day, you will highlight it in a bright orangish-red and color the rest of the points gray.\n",
        "\n",
        "pandas, matplotlib.pyplot, and seaborn are loaded as pd, plt, and sns, respectively, and will be available in your workspace for the rest of the course."
      ],
      "metadata": {
        "id": "bnp4GNxdt7VO"
      }
    },
    {
      "cell_type": "code",
      "execution_count": null,
      "metadata": {
        "id": "acoPPY4Btlzf"
      },
      "outputs": [],
      "source": [
        "houston_pollution = pollution[pollution.city  ==  'Houston']\n",
        "\n",
        "# Make array orangred for day 330 of year 2014, otherwise lightgray\n",
        "houston_colors = ['orangered' if (day  ==  330) & (year  ==  2014) else 'lightgray' \n",
        "                  for day,year in zip(houston_pollution.day, houston_pollution.year)]\n",
        "\n",
        "sns.regplot(x = 'NO2',\n",
        "            y = 'SO2',\n",
        "            data = houston_pollution,\n",
        "            fit_reg = False, \n",
        "            # Send scatterplot argument to color points \n",
        "            scatter_kws = {'facecolors': houston_colors, 'alpha': 0.7})\n",
        "plt.show()"
      ]
    },
    {
      "cell_type": "markdown",
      "source": [
        "## Programmatically creating a highlight\n",
        "\n",
        "You are continuing your work for the city of Houston. Now you want to look at the behavior of both NO2 and SO2 when the un-plotted ozone (O3) value was at its highest.\n",
        "\n",
        "To do this, replace the logic in the current list comprehension with one that compares a row's O3 value with the highest observed O3 in the dataset. Note: use sns.scatterplot() instead of sns.regplot(). This is because sns.scatterplot() can take a non-color vector as its hue argument and colors the points automatically while providing a helpful legend."
      ],
      "metadata": {
        "id": "Tx5M21truFdW"
      }
    },
    {
      "cell_type": "code",
      "source": [
        "houston_pollution = pollution[pollution.city  ==  'Houston'].copy()\n",
        "\n",
        "# Find the highest observed O3 value\n",
        "max_O3 = houston_pollution.O3.max()\n",
        "\n",
        "# Make a column that denotes which day had highest O3\n",
        "houston_pollution['point_type'] = ['Highest O3 Day' if O3 == max_O3 \n",
        "                                   else 'Others' for O3 in houston_pollution.O3]\n",
        "\n",
        "# Encode the hue of the points with the O3 generated column\n",
        "sns.scatterplot(x = 'NO2',\n",
        "                y='SO2',\n",
        "                hue='point_type',\n",
        "               data = houston_pollution);\n",
        "plt.show()"
      ],
      "metadata": {
        "id": "BLWvH3douFhW"
      },
      "execution_count": null,
      "outputs": []
    },
    {
      "cell_type": "markdown",
      "source": [
        "## Comparing with two KDEs\n",
        "Imagine that you work for the premier air-filter provider. Your company has asked you to build a report that looks into why 2012 was a particularly good year for sales of your ozone (O3) filter. You downloaded some helpful pollution data from the USGS, and you want to make a concise visualization that compares the general pattern of O3 pollution for 2012 to all other years on record.\n",
        "\n",
        "To do this, you can build two overlaid kernel density estimation plots (KDEs): one for 2012 O3 data and one for all other years."
      ],
      "metadata": {
        "id": "RMEfG0vluM11"
      }
    },
    {
      "cell_type": "code",
      "source": [
        "# Filter dataset to the year 2012\n",
        "sns.kdeplot(pollution[pollution.year == 2012].O3, \n",
        "            # Shade under kde and add a helpful label\n",
        "            shade = True,\n",
        "            label = '2012');\n",
        "\n",
        "# Filter dataset to everything except the year 2012\n",
        "sns.kdeplot(pollution[pollution.year != 2012].O3, \n",
        "            # Again, shade under kde and add a helpful label\n",
        "            shade = True,\n",
        "            label = 'other years');\n",
        "plt.show()"
      ],
      "metadata": {
        "id": "k8ZNJPX5uM6N"
      },
      "execution_count": null,
      "outputs": []
    },
    {
      "cell_type": "markdown",
      "source": [
        "## Improving your KDEs\n",
        "One way of enhancing KDEs is with the addition of a rug plot. Rug plots are little dashes drawn beneath the density that show precisely where each data point falls. Adding a rug plot is particularly useful when you don't have a ton of data.\n",
        "\n",
        "With small amounts of data you often have gaps along your support with no data, and it can be hard to tell whether a non-zero KDE line means data was present or is due to a wide kernel. A rug plot helps address this.\n",
        "\n",
        "Let's return to the sns.distplot() function to draw two KDEs: one looking at the data for Vandenberg Air Force Base and the other looking at all the other cities in the pollution data. Since there is much less data contributing to the shape of the Vandenberg plot, add a rug plot beneath it."
      ],
      "metadata": {
        "id": "acmm7vnDuVC_"
      }
    },
    {
      "cell_type": "code",
      "source": [
        "sns.distplot(pollution[pollution.city == 'Vandenberg Air Force Base'].O3, \n",
        "             label = 'Vandenberg', \n",
        "             # Turn of the histogram and color blue to stand out\n",
        "             hist = False,\n",
        "             color = 'steelblue', \n",
        "             # Turn on rugplot\n",
        "             rug = True);\n",
        "\n",
        "sns.distplot(pollution[pollution.city != 'Vandenberg Air Force Base'].O3, \n",
        "             label = 'Other cities',\n",
        "             # Turn off histogram and color gray\n",
        "             hist = False,  \n",
        "             color = 'gray');\n",
        "plt.show()"
      ],
      "metadata": {
        "id": "-wqEjKEuuVHe"
      },
      "execution_count": null,
      "outputs": []
    },
    {
      "cell_type": "markdown",
      "source": [
        "## Beeswarms\n",
        "Build a beeswarm plot using sns.swarmplot() that looks at the Ozone levels for all the cities in the pollution data for the month of March. To make the beeswarm a bit more legible, decrease the point size to avoid the overcrowding caused by the many points drawn on the screen. Last, since you've done some manipulation of the data to make this plot, provide a title to help the reader orient with what they are viewing."
      ],
      "metadata": {
        "id": "HHis6QUAuZIW"
      }
    },
    {
      "cell_type": "code",
      "source": [
        "# Filter data to just March\n",
        "pollution_mar = pollution[pollution.month == 3]\n",
        "\n",
        "# Plot beeswarm with x as O3\n",
        "sns.swarmplot(y = \"city\",\n",
        "              x = 'O3', \n",
        "              data = pollution_mar, \n",
        "              # Decrease the size of the points to avoid crowding \n",
        "              size = 3);\n",
        "\n",
        "# Give a descriptive title\n",
        "plt.title('March Ozone levels by city');\n",
        "plt.show()"
      ],
      "metadata": {
        "id": "BH7nMZyzuZNe"
      },
      "execution_count": null,
      "outputs": []
    },
    {
      "cell_type": "markdown",
      "source": [
        "## A basic text annotation\n",
        "On the current scatter plot, you can see a particularly prominent point that contains the largest SO2 value observed for August. This point is Cincinnati on August 11th, 2013; however, you would not be able to learn this information from the plot in its current form. Basic text annotations are great for pointing out interesting outliers and giving a bit more information. Draw the readers attention to this Cincinnati value by adding a basic text annotation that gives a bit of the background about this outlier."
      ],
      "metadata": {
        "id": "2f2NOTKOueDv"
      }
    },
    {
      "cell_type": "code",
      "source": [
        "# Draw basic scatter plot of pollution data for August\n",
        "sns.scatterplot(x = 'CO', y = 'SO2', data = pollution[pollution.month  ==  8]);\n",
        "\n",
        "# Label highest SO2 value with text annotation\n",
        "plt.text(0.57, 41,\n",
        "         'Cincinnati had highest observed\\nSO2 value on Aug 11, 2013', \n",
        "         # Set the font to large\n",
        "         fontdict = {'ha': 'left', 'size': 'large'});\n",
        "plt.show()"
      ],
      "metadata": {
        "id": "BtgyYSSdueIo"
      },
      "execution_count": null,
      "outputs": []
    },
    {
      "cell_type": "markdown",
      "source": [
        "## Arrow annotations\n",
        "Imagine you are a city planner for Long Beach, California. Long Beach is located on the Pacific Ocean and has a large firework show every New Year's Eve. You want to look into whether this show negatively impacts the air quality of the city. To do this, you will look at CO and NO2 levels on New Year's Day. However, it turns out that New Year's Day is not one of the outliers in the plot on the right, it's located in one of the more crowded areas.\n",
        "\n",
        "To help guide the reader to this point, you'll use an annotation along with an arrow that points to the New Year's Day value. This will provide a nice annotation that explains what the viewer is looking while printing the text in a less crowded region of the plot."
      ],
      "metadata": {
        "id": "rn_aymtzujXt"
      }
    },
    {
      "cell_type": "code",
      "source": [
        "# Query and filter to New Years in Long Beach\n",
        "jan_pollution = pollution.query(\"(month  ==  1) & (year  ==  2012)\")\n",
        "lb_newyears = jan_pollution.query(\"(day  ==  1) & (city  ==  'Long Beach')\")\n",
        "\n",
        "sns.scatterplot(x = 'CO', y = 'NO2',\n",
        "                data = jan_pollution);\n",
        "\n",
        "# Point arrow to lb_newyears & place text in lower left \n",
        "plt.annotate('Long Beach New Years',\n",
        "             xy = (lb_newyears['CO'], lb_newyears['NO2']),\n",
        "               xytext = (2, 15), \n",
        "             # Shrink the arrow to avoid occlusion\n",
        "             arrowprops = {'facecolor':'gray', 'width': 3, 'shrink': 0.03},\n",
        "             backgroundcolor = 'white');\n",
        "plt.show()"
      ],
      "metadata": {
        "id": "YptpouFuujc1"
      },
      "execution_count": null,
      "outputs": []
    },
    {
      "cell_type": "markdown",
      "source": [
        "## Combining annotations and color\n",
        "You believe that Long Beach, California has a smog problem. Using the pollution data, you'll attempt to make a point for increasing smog reduction regulations using your data visualization wizardry. Specifically, you want to focus on the relationship of CO to O3 levels during 2014 at a city council meeting.\n",
        "\n",
        "To emphasize how Long Beach compares to a set of peer cities, you've decided to highlight Long Beach and draw attention to a particularly bad day where the CO level was 1.6 and O3 was 0.072 using an annotation."
      ],
      "metadata": {
        "id": "RX10h6vLuqKt"
      }
    },
    {
      "cell_type": "code",
      "source": [
        "# Make a vector where Long Beach is orangered; else lightgray\n",
        "is_lb = ['orangered' if city  ==  'Long Beach' else 'lightgray' for city in pollution['city']]"
      ],
      "metadata": {
        "id": "lp__0WgVuqPP"
      },
      "execution_count": null,
      "outputs": []
    },
    {
      "cell_type": "markdown",
      "source": [],
      "metadata": {
        "id": "rMxJXq5Euv5u"
      }
    },
    {
      "cell_type": "markdown",
      "source": [
        "# Using color in your visualizations"
      ],
      "metadata": {
        "id": "jhq2BdebvAb1"
      }
    },
    {
      "cell_type": "markdown",
      "source": [
        "## Getting rid of unnecessary colour\n",
        "\n",
        "You might want to compare the relationship CO to NO2 values across cities using a simple scatter plot with color to differentiate the different cities' data.\n",
        "\n",
        "Unfortunately, the resulting plot is very convoluted. It's hard to make out differences between the cities because one has to differentiate between similar colors. It turns out that sometimes the best color palette for your plot is no color at all.\n",
        "\n",
        "To remedy this hard-to-read chart, get rid of the color component and facet by each city. While the resulting plot may not be as pretty, it will be a much better tool to decipher the differences."
      ],
      "metadata": {
        "id": "-TUpplzYvITV"
      }
    },
    {
      "cell_type": "code",
      "source": [
        "# Hard to read scatter of CO and NO2 w/ color mapped to city\n",
        "# sns.scatterplot('CO', 'NO2',\n",
        "#                 alpha = 0.2,\n",
        "#                 hue = 'city',\n",
        "#                 data = pollution)\n",
        "\n",
        "# Setup a facet grid to separate the cities apart\n",
        "g = sns.FacetGrid(data = pollution,\n",
        "                  col = 'city',\n",
        "                  col_wrap = 3)\n",
        "\n",
        "# Map sns.scatterplot to create separate city scatter plots\n",
        "g.map(sns.scatterplot, 'CO', 'NO2', alpha = 0.2);\n",
        "plt.show()"
      ],
      "metadata": {
        "id": "NbVprLmauv-m"
      },
      "execution_count": null,
      "outputs": []
    },
    {
      "cell_type": "markdown",
      "source": [
        "## Fixing Seaborn's bar charts\n",
        "Seaborn's default values for the colors of bars in a bar chart are not ideal for the most accurate perception. By drawing each bar as a different color, there is a risk of the viewer seeing two identical sized bars as different sizes as people tend to see some colors as 'larger' than others.\n",
        "\n",
        "Basic rainbow colored bar plot\n",
        "\n",
        "We discussed two easy ways to fix this. First, to put a border around the bars; second, change all bar colors to the same value. Try both of these solutions on our pollution data."
      ],
      "metadata": {
        "id": "jn2VM7mwvHM3"
      }
    },
    {
      "cell_type": "code",
      "source": [
        "import numpy as np\n",
        "\n",
        "sns.barplot(y = 'city', x = 'CO', \n",
        "              estimator = np.mean,\n",
        "            ci = False,\n",
        "              data = pollution,\n",
        "              # Add a border to the bars\n",
        "            edgecolor = 'black');\n",
        "plt.show()"
      ],
      "metadata": {
        "id": "FcKa90G_vHRP"
      },
      "execution_count": null,
      "outputs": []
    },
    {
      "cell_type": "markdown",
      "source": [
        "## Making a custom continuous palette\n",
        "You are interested in the pollution levels of Cincinnati for the year 2014. Specifically, you're interested in CO and NO2, so you make a simple scatter plot to show the relationship between the two pollutants.\n",
        "\n",
        "Scatterplot of CO and NO2 with uncolored points\n",
        "\n",
        "However, there may be some interesting information in how the value of O3 relates to the two plotted pollutants, so you decide to color the points by their O3 levels. To do this, you need to define an appropriate continuous palette and map your O3 column to it in your scatter plot."
      ],
      "metadata": {
        "id": "D64bW2PkvhV-"
      }
    },
    {
      "cell_type": "code",
      "source": [
        "# Filter the data\n",
        "cinci_2014 = pollution.query(\"city  ==  'Cincinnati' & year  ==  2014\")\n",
        "\n",
        "# Define a custom continuous color palette\n",
        "color_palette = sns.light_palette('orangered',\n",
        "                         as_cmap = True);\n",
        "\n",
        "# Plot mapping the color of the points with custom palette\n",
        "sns.scatterplot(x = 'CO',\n",
        "                y = 'NO2',\n",
        "                hue = 'O3', \n",
        "                data = cinci_2014,\n",
        "                palette = color_palette);\n",
        "plt.show()"
      ],
      "metadata": {
        "id": "pzUbnL1xvhaX"
      },
      "execution_count": null,
      "outputs": []
    },
    {
      "cell_type": "markdown",
      "source": [
        "## Customizing a diverging palette heatmap\n",
        "The default color scheme used by Seaborn's heatmap() doesn't give the value of 0 any special treatment. This is fine for instances when 0 isn't special for the variable you're visualizing but means you will need to customize the palette when 0 is special, such as when it represents a neutral value.\n",
        "\n",
        "For this visualization, you want to compare all the cities against the average pollution value for CO in November 2015. (As is provided in the DataFrame nov_2015_CO).\n",
        "\n",
        "To do this, use a heat map to encode the number of standard deviations away from the average each city's CO pollution was for the day. You'll need to replace the default palette by creating your own custom diverging palette and passing it to the heatmap and informing the function what your neutral value is."
      ],
      "metadata": {
        "id": "6ClUCf2BvsvP"
      }
    },
    {
      "cell_type": "code",
      "source": [
        "# Define a custom palette\n",
        "color_palette = sns.diverging_palette(250, 0, as_cmap=True)\n",
        "\n",
        "# Pass palette to plot and set axis ranges\n",
        "sns.heatmap(nov_2015_CO,\n",
        "            cmap=color_palette,\n",
        "            center=0,\n",
        "            vmin=-4,\n",
        "            vmax=4\n",
        "           );\n",
        "plt.yticks(rotation=0)\n",
        "plt.show()"
      ],
      "metadata": {
        "id": "GG8FaX4Rvs0v"
      },
      "execution_count": null,
      "outputs": []
    },
    {
      "cell_type": "markdown",
      "source": [
        "## Adjusting your palette according to context\n",
        "You've been asked to make a figure for your company's website. The website has a slick black theme, and it would be pretty jarring if your plot were white. To make your plot match the company aesthetic, you can swap the background to a black one with plt.style.use(\"dark_background\").\n",
        "\n",
        "The figure you've been asked to make plots O3 values during October 2015 for various cities (provided as oct_2015_o3). You will plot this as a heatmap with the color of each cell encoding how many standard deviations from the overall average O3 value the measurement falls. Due to the website's dark background, you will want to adjust your color palette to encode null value (or 0 standard deviations from the mean) as dark rather than the default white."
      ],
      "metadata": {
        "id": "Wx4YD_FhvxA3"
      }
    },
    {
      "cell_type": "code",
      "source": [
        "# Dark plot background\n",
        "plt.style.use(\"dark_background\")\n",
        "\n",
        "# Modify palette for dark background\n",
        "color_palette = sns.diverging_palette(250, 0,\n",
        "                                      center = 'dark',\n",
        "                                      as_cmap = True)\n",
        "\n",
        "# Pass palette to plot and set center\n",
        "sns.heatmap(oct_2015_o3,\n",
        "            cmap = color_palette,\n",
        "            center = 0);\n",
        "plt.yticks(rotation = 0);\n",
        "plt.show()"
      ],
      "metadata": {
        "id": "3Pre0uO3vxFQ"
      },
      "execution_count": null,
      "outputs": []
    },
    {
      "cell_type": "markdown",
      "source": [
        "## Using a custom categorical palette\n",
        "When you have a line chart with lots of categories choosing your palette carefully is essential. Often default palettes have very similar hues, that are hard to differentiate when spread over the small surface of a line. ColorBrewer palettes are built with this in mind and keep the colors as distinct as possible.\n",
        "\n",
        "In this exercise, you will make a line plot of the O3 values over the year of 2013 for all the cities where the color of each line is encoded by city. You will use the ColorBrewer palette 'Set2' to improve upon the default color scheme."
      ],
      "metadata": {
        "id": "7VX48PIuv06O"
      }
    },
    {
      "cell_type": "code",
      "source": [
        "# Filter our data to Jan 2013\n",
        "pollution_jan13 = pollution.query('year == 2013 & month == 1')\n",
        "\n",
        "# Color lines by the city and use custom Color Brewer palette\n",
        "sns.lineplot(x='day', y='CO', hue='city', palette='Set2', linewidth=3, data=pollution_jan13);\n",
        "plt.show()"
      ],
      "metadata": {
        "id": "Cwfv0erkv0-3"
      },
      "execution_count": null,
      "outputs": []
    },
    {
      "cell_type": "markdown",
      "source": [
        "## Dealing with too many categories\n",
        "Sometimes you may be short on figure space and need to show a lot of data at once. Here you want to show the year-long trajectory of every pollutant for every city in the pollution dataset. Each pollutant trajectory will be plotted as a line with the y-value corresponding to standard deviations from year's average. This means you will have a lot of lines on your plot at once -- way more than you could separate clearly with color.\n",
        "\n",
        "To deal with this, you have decided to highlight on a small subset of city pollutant combinations (wanted_combos). This subset is the most important to you, and the other trajectories will provide valuable context for comparison. To focus attention, you will set all the non-highlighted trajectories lines to of the same 'other' color."
      ],
      "metadata": {
        "id": "Uyoirsgqv5_W"
      }
    },
    {
      "cell_type": "code",
      "source": [
        "# Choose the combos that get distinct colors\n",
        "wanted_combos = ['Vandenberg Air Force Base NO2', 'Long Beach CO', 'Cincinnati SO2']\n",
        "\n",
        "# Assign a new column to DataFrame for isolating the desired combos\n",
        "city_pol_month['color_cats'] = [x if x in wanted_combos else 'other' for x in city_pol_month['city_pol']]\n",
        "\n",
        "# Plot lines with color driven by new column and lines driven by original categories\n",
        "sns.lineplot(x = \"month\",\n",
        "             y = \"value\",\n",
        "             hue = 'color_cats',\n",
        "             units = 'city_pol',\n",
        "             estimator = None,\n",
        "             palette = 'Set2',\n",
        "             data = city_pol_month);\n",
        "plt.show()"
      ],
      "metadata": {
        "id": "4-CMNpgxv6De"
      },
      "execution_count": null,
      "outputs": []
    },
    {
      "cell_type": "markdown",
      "source": [
        "## Coloring ordinal categories\n",
        "You are working for the Des Moines city council to assess the associations of various pollutant levels in the city. The two most important pollutants are SO2 and NO2 but CO is also of interest. You've only been allowed enough space for a single plot for your part of the report.\n",
        "\n",
        "You start with a scatter plot of the SO2 and NO2 values as they are most important and then decide to show the CO values using a color scale corresponding to CO quartiles. By binning the continuous CO values, you have turned CO into an ordinal variable that can illuminate broad patterns without requiring much effort from the viewer to compare subtly different shades."
      ],
      "metadata": {
        "id": "pD_1eYfTv_Af"
      }
    },
    {
      "cell_type": "code",
      "source": [
        "# Divide CO into quartiles\n",
        "pollution['CO quartile'] = pd.qcut(pollution['CO'], q = 4, labels = False)\n",
        "\n",
        "# Filter to just Des Moines\n",
        "des_moines = pollution.query(\"city  ==  'Des Moines'\")\n",
        "\n",
        "# Color points with by quartile and use ColorBrewer palette\n",
        "sns.scatterplot(x = 'SO2',\n",
        "                y = 'NO2',\n",
        "                hue = 'CO quartile', \n",
        "                  data = des_moines,\n",
        "                palette = 'GnBu');\n",
        "plt.show()"
      ],
      "metadata": {
        "id": "3Wai7Lxgv_FH"
      },
      "execution_count": null,
      "outputs": []
    },
    {
      "cell_type": "markdown",
      "source": [
        "## Choosing the right variable to encode with color\n",
        "You're tasked with visualizing pollution values for Long Beach and nearby cities over time. The supplied code makes the below (hard-to-read plot), which consists of maximum pollution values (provided as max_pollutant_values) with the bars colored by the city.\n",
        "\n",
        "Mutlicolor and busy bar plots with four rows corresponding to the four pollutants in dataset\n",
        "\n",
        "You can quickly improve this with a few tweaks. By modifying the cities shown to only those in the western half of the country you will avoid clutter. Next, swapping the color-encoding from city to year allows you to use an ordinal palette, saving the reader from continually referring to the legend to check which color corresponds to which city."
      ],
      "metadata": {
        "id": "0AwKt7_jwD7H"
      }
    },
    {
      "cell_type": "code",
      "source": [
        "# Reduce to just cities in the western half of US\n",
        "cities = ['Fairbanks', 'Long Beach', 'Vandenberg Air Force Base', 'Denver']\n",
        "\n",
        "# Filter data to desired cities\n",
        "city_maxes = max_pollutant_values[max_pollutant_values.city.isin(cities)]\n",
        "\n",
        "# Swap city and year encodings\n",
        "sns.catplot(x = 'city', hue = 'year',\n",
        "              y = 'value', row = 'pollutant',    \n",
        "              # Change palette to one appropriate for ordinal categories\n",
        "              data = city_maxes, palette = 'BuGn',\n",
        "              sharey = False, kind = 'bar')\n",
        "plt.show()"
      ],
      "metadata": {
        "id": "pQd50tkqwD_W"
      },
      "execution_count": null,
      "outputs": []
    },
    {
      "cell_type": "markdown",
      "source": [
        "# Showing uncertainty"
      ],
      "metadata": {
        "id": "xQtB2XHZwIan"
      }
    },
    {
      "cell_type": "markdown",
      "source": [
        "## Basic confidence intervals\n",
        "You are a data scientist for a fireworks manufacturer in Des Moines, Iowa. You need to make a case to the city that your company's large fireworks show has not caused any harm to the city's air. To do this, you look at the average levels for pollutants in the week after the fourth of July and how they compare to readings taken after your last show. By showing confidence intervals around the averages, you can make a case that the recent readings were well within the normal range.\n",
        "\n",
        "This data is loaded as average_ests with a row for each measured pollutant."
      ],
      "metadata": {
        "id": "pzHIuhpSwOsu"
      }
    },
    {
      "cell_type": "code",
      "source": [
        "# Construct CI bounds for averages\n",
        "average_ests['lower'] = average_ests['mean'] - 1.96 * average_ests['std_err']\n",
        "average_ests['upper'] = average_ests['mean'] + 1.96 * average_ests['std_err']\n",
        "\n",
        "# Setup a grid of plots, with non-shared x axes limits\n",
        "g = sns.FacetGrid(average_ests, row='pollutant', sharex=False, aspect=2);\n",
        "\n",
        "# Plot CI for average estimate\n",
        "g.map(plt.hlines, 'y', 'lower', 'upper');\n",
        "\n",
        "# Plot observed values for comparison and remove axes labels\n",
        "g.map(plt.scatter, 'seen', 'y', color='orangered').set_ylabels('').set_xlabels('');\n",
        "\n",
        "plt.show()"
      ],
      "metadata": {
        "id": "RebZg8CdwIgu"
      },
      "execution_count": null,
      "outputs": []
    },
    {
      "cell_type": "markdown",
      "source": [
        "## Annotating confidence intervals\n",
        "Your data science work with pollution data is legendary, and you are now weighing job offers in both Cincinnati, Ohio and Indianapolis, Indiana. You want to see if the SO2 levels are significantly different in the two cities, and more specifically, which city has lower levels. To test this, you decide to look at the differences in the cities' SO2 values (Indianapolis' - Cincinnati's) over multiple years (provided as diffs_by_year).\n",
        "\n",
        "Instead of just displaying a p-value for a significant difference between the cities, you decide to look at the 95% confidence intervals (columns lower and upper) of the differences. This allows you to see the magnitude of the differences along with any trends over the years."
      ],
      "metadata": {
        "id": "_xVAForuwTn2"
      }
    },
    {
      "cell_type": "code",
      "source": [
        "# Set start and ends according to intervals\n",
        "# Make intervals thicker\n",
        "plt.hlines(y='year', xmin='lower', xmax='upper', \n",
        "          linewidth=5, color='steelblue', alpha=0.7,\n",
        "          data=diffs_by_year);\n",
        "\n",
        "# Point estimates\n",
        "plt.plot('mean', 'year', 'k|', data=diffs_by_year);\n",
        "\n",
        "# Add a 'null' reference line at 0 and color orangered\n",
        "plt.axvline(x=0, color='orangered', linestyle='--');\n",
        "\n",
        "# Set descriptive axis labels and title\n",
        "plt.xlabel('95% CI');\n",
        "plt.title('Avg SO2 differences between Cincinnati and Indianapolis');\n",
        "plt.show()"
      ],
      "metadata": {
        "id": "_7QvXCMFwTr3"
      },
      "execution_count": null,
      "outputs": []
    },
    {
      "cell_type": "markdown",
      "source": [
        "## Making a confidence band\n",
        "Vandenberg Air Force Base is often used as a location to launch rockets into space. You have a theory that a recent increase in the pace of rocket launches could be harming the air quality in the surrounding region. To explore this, you plotted a 25-day rolling average line of the measurements of atmospheric NO2. To help decide if any pattern observed is random-noise or not, you decide to add a 99% confidence band around your rolling mean. Adding a confidence band to a trend line can help shed light on the stability of the trend seen. This can either increase or decrease the confidence in the discovered trend."
      ],
      "metadata": {
        "id": "9WqDfrQHwXLu"
      }
    },
    {
      "cell_type": "code",
      "source": [
        "# Draw 99% interval bands for average NO2\n",
        "vandenberg_NO2['lower'] = vandenberg_NO2['mean'] - 2.58 * vandenberg_NO2['std_err']\n",
        "vandenberg_NO2['upper'] = vandenberg_NO2['mean'] + 2.58 * vandenberg_NO2['std_err']\n",
        "\n",
        "# Plot mean estimate as a white semi-transparent line\n",
        "plt.plot('day', 'mean', data=vandenberg_NO2, color='white', alpha=0.4);\n",
        "\n",
        "# Fill between the upper and lower confidence band values\n",
        "plt.fill_between(x='day', y1='lower', y2='upper', data=vandenberg_NO2);\n",
        "\n",
        "plt.show()"
      ],
      "metadata": {
        "id": "DbKHPJHvwXQm"
      },
      "execution_count": null,
      "outputs": []
    },
    {
      "cell_type": "markdown",
      "source": [
        "## Separating a lot of bands\n",
        "It is relatively simple to plot a bunch of trend lines on top of each other for rapid and precise comparisons. Unfortunately, if you need to add uncertainty bands around those lines, the plot becomes very difficult to read. Figuring out whether a line corresponds to the top of one class' band or the bottom of another's can be hard due to band overlap. Luckily in Seaborn, it's not difficult to break up the overlapping bands into separate faceted plots.\n",
        "\n",
        "To see this, explore trends in SO2 levels for a few cities in the eastern half of the US. If you plot the trends and their confidence bands on a single plot - it's a mess. To fix, use Seaborn's FacetGrid() function to spread out the confidence intervals to multiple panes to ease your inspection."
      ],
      "metadata": {
        "id": "2f2ZcP_hwc0e"
      }
    },
    {
      "cell_type": "code",
      "source": [
        "# setup a grid of plots with columns divided by location\n",
        "g = sns.FacetGrid(eastern_SO2, col='city', col_wrap=2);\n",
        "\n",
        "# Map interval plots to each cities data with coral colored ribbons\n",
        "g.map(plt.fill_between, 'day', 'lower', 'upper', color='coral');\n",
        "\n",
        "# Map overlaid mean plots with white line\n",
        "g.map(plt.plot, 'day', 'mean', color='white');\n",
        "\n",
        "plt.show()"
      ],
      "metadata": {
        "id": "ZLGimlv-wc5T"
      },
      "execution_count": null,
      "outputs": []
    },
    {
      "cell_type": "markdown",
      "source": [
        "## Cleaning up bands for overlaps\n",
        "You are working for the city of Denver, Colorado and want to run an ad campaign about how much cleaner Denver's air is than Long Beach, California's air. To investigate this claim, you will compare the SO2 levels of both cities for the year 2014 (provided as the DataFrame SO2_compare). Since you are solely interested in how the cities compare, you want to keep the bands on the same plot. To make the bands easier to compare, decrease the opacity of the confidence bands and set a clear legend."
      ],
      "metadata": {
        "id": "q8UVGSAmwhl_"
      }
    },
    {
      "cell_type": "code",
      "source": [
        "for city, color in [('Denver', '#66c2a5'), ('Long Beach', '#fc8d62')]:\n",
        "    # Filter data to desired city\n",
        "    city_data = SO2_compare[SO2_compare.city == city]\n",
        "    \n",
        "    # Set city interval color to desired and lower opacity\n",
        "    plt.fill_between(x='day', y1='lower', y2='upper', data=city_data, color=color, alpha=0.4);\n",
        "    \n",
        "    # Draw a faint mean line for reference and give a label for legend\n",
        "    plt.plot('day', 'mean', data=city_data, label=city, color=color, alpha=0.25);\n",
        "    \n",
        "plt.legend()\n",
        "plt.show()"
      ],
      "metadata": {
        "id": "7zRdtmabwhpG"
      },
      "execution_count": null,
      "outputs": []
    },
    {
      "cell_type": "markdown",
      "source": [
        "## 90, 95, and 99% intervals\n",
        "You are a data scientist for an outdoor adventure company in Fairbanks, Alaska. Recently, customers have been having issues with SO2 pollution, leading to costly cancellations. The company has sensors for CO, NO2, and O3 but not SO2 levels.\n",
        "\n",
        "You've built a model that predicts SO2 values based on the values of pollutants with sensors (loaded as pollution_model, a statsmodels object). You want to investigate which pollutant's value has the largest effect on your model's SO2 prediction. This will help you know which pollutant's values to pay most attention to when planning outdoor tours. To maximize the amount of information in your report, show multiple levels of uncertainty for the model estimates."
      ],
      "metadata": {
        "id": "4aT6JYK5wl8B"
      }
    },
    {
      "cell_type": "code",
      "source": [
        "# Add interval percent widths\n",
        "alphas = [     0.01,  0.05,   0.1] \n",
        "widths = [ '99% CI', '95%', '90%']\n",
        "colors = ['#fee08b','#fc8d59','#d53e4f']\n",
        "\n",
        "for alpha, color, width in zip(alphas, colors, widths):\n",
        "    # Grab confidence interval\n",
        "    conf_ints = pollution_model.conf_int(alpha)\n",
        "    \n",
        "    # Pass current interval color and legend label to plot\n",
        "    plt.hlines(y = conf_ints.index, xmin = conf_ints[0], xmax = conf_ints[1],\n",
        "               colors = color, label = width, linewidth = 10) \n",
        "\n",
        "# Draw point estimates\n",
        "plt.plot(pollution_model.params, pollution_model.params.index, 'wo', label = 'Point Estimate')\n",
        "\n",
        "plt.legend()\n",
        "plt.show() "
      ],
      "metadata": {
        "id": "XTNTTtf0wmAZ"
      },
      "execution_count": null,
      "outputs": []
    },
    {
      "cell_type": "markdown",
      "source": [
        "## 90 and 95% bands\n",
        "You are looking at a 40-day rolling average of the NO2 pollution levels for the city of Cincinnati in 2013. To provide as detailed a picture of the uncertainty in the trend you want to look at both the 90 and 99% intervals around this rolling estimate.\n",
        "\n",
        "To do this, set up your two interval sizes and an orange ordinal color palette. Additionally, to enable precise readings of the bands, make them semi-transparent, so the Seaborn background grids show through."
      ],
      "metadata": {
        "id": "5ZaDOccewsHp"
      }
    },
    {
      "cell_type": "code",
      "source": [
        "int_widths = ['90%', '99%']\n",
        "z_scores = [1.67, 2.58]\n",
        "colors = ['#fc8d59', '#fee08b']\n",
        "\n",
        "for percent, Z, color in zip(int_widths, z_scores, colors):\n",
        "    \n",
        "    # Pass lower and upper confidence bounds and lower opacity\n",
        "    plt.fill_between(\n",
        "        x = cinci_13_no2.day, alpha = 0.4, color = color,\n",
        "        y1 = cinci_13_no2['mean'] - Z * cinci_13_no2['std_err'],\n",
        "        y2 = cinci_13_no2['mean'] + Z * cinci_13_no2['std_err'],\n",
        "        label = percent);\n",
        "    \n",
        "plt.legend()\n",
        "plt.show()"
      ],
      "metadata": {
        "id": "aLy9NUPswsLL"
      },
      "execution_count": null,
      "outputs": []
    },
    {
      "cell_type": "markdown",
      "source": [
        "## Using band thickness instead of coloring\n",
        "You are a researcher investigating the elevation a rocket reaches before visual is lost and pollutant levels at Vandenberg Air Force Base. You've built a model to predict this relationship (stored in the DataFrame rocket_height_model), and since you are working independently, you don't have the money to pay for color figures in your journal article. You need to make your model results plot work in black and white. To do this, you will plot the 90, 95, and 99% intervals of the effect of each pollutant as successively smaller bars."
      ],
      "metadata": {
        "id": "gMYVm22hwxjA"
      }
    },
    {
      "cell_type": "code",
      "source": [
        "# Decrase interval thickness as interval widens\n",
        "sizes =      [    15,  10,  5]\n",
        "int_widths = ['90% CI', '95%', '99%']\n",
        "z_scores =   [    1.67,  1.96,  2.58]\n",
        "\n",
        "for percent, Z, size in zip(int_widths, z_scores, sizes):\n",
        "    plt.hlines(y = rocket_model.pollutant, \n",
        "               xmin = rocket_model['est'] - Z * rocket_model['std_err'],\n",
        "               xmax = rocket_model['est'] + Z * rocket_model['std_err'],\n",
        "               label = percent, \n",
        "               # Resize lines and color them gray\n",
        "               linewidth = size, \n",
        "               color = 'gray'); \n",
        "    \n",
        "# Add point estimate\n",
        "plt.plot('est', 'pollutant', 'wo', data = rocket_model, label = 'Point Estimate');\n",
        "plt.legend(loc = 'center left', bbox_to_anchor = (1, 0.5));\n",
        "plt.show()"
      ],
      "metadata": {
        "id": "QQP9f_aAwxnL"
      },
      "execution_count": null,
      "outputs": []
    },
    {
      "cell_type": "markdown",
      "source": [
        "## The bootstrap histogram\n",
        "You are considering a vacation to Cincinnati in May, but you have a severe sensitivity to NO2. You pull a few years of pollution data from Cincinnati in May and look at a bootstrap estimate of the average NO2 levels. You only have one estimate to look at the best way to visualize the results of your bootstrap estimates is with a histogram.\n",
        "\n",
        "While you like the intuition of the bootstrap histogram by itself, your partner who will be going on the vacation with you, likes seeing percent intervals. To accommodate them, you decide to highlight the 95% interval by shading the region."
      ],
      "metadata": {
        "id": "v-8kwBrXw08I"
      }
    },
    {
      "cell_type": "code",
      "source": [
        "cinci_may_NO2 = pollution.query(\"city  ==  'Cincinnati' & month  ==  5\").NO2\n",
        "\n",
        "# Generate bootstrap samples\n",
        "boot_means = bootstrap(cinci_may_NO2, 1000)\n",
        "\n",
        "# Get lower and upper 95% interval bounds\n",
        "lower, upper = np.percentile(boot_means, [2.5, 97.5])\n",
        "\n",
        "# Plot shaded area for interval\n",
        "plt.axvspan(lower, upper, color = 'gray', alpha = 0.2);\n",
        "\n",
        "# Draw histogram of bootstrap samples\n",
        "sns.distplot(boot_means, bins = 100, kde = False);\n",
        "\n",
        "plt.show()"
      ],
      "metadata": {
        "id": "qqbk1jP-w0_M"
      },
      "execution_count": null,
      "outputs": []
    },
    {
      "cell_type": "markdown",
      "source": [
        "## Bootstrapped regressions\n",
        "While working for the Long Beach parks and recreation department investigating the relationship between NO2 and SO2 you noticed a cluster of potential outliers that you suspect might be throwing off the correlations.\n",
        "\n",
        "SO2 NO2 scatter\n",
        "\n",
        "Investigate the uncertainty of your correlations through bootstrap resampling to see how stable your fits are. For convenience, the bootstrap sampling is complete and is provided as no2_so2_boot along with no2_so2 for the non-resampled data."
      ],
      "metadata": {
        "id": "yYwRDp4_w7pX"
      }
    },
    {
      "cell_type": "code",
      "source": [
        "sns.lmplot('NO2', 'SO2', data = no2_so2_boot,\n",
        "           # Tell seaborn to a regression line for each sample\n",
        "           hue = 'sample', \n",
        "           # Make lines blue and transparent\n",
        "           line_kws = {'color': 'steelblue', 'alpha': 0.2},\n",
        "           # Disable built-in confidence intervals\n",
        "           ci = None, legend = False, scatter = False);\n",
        "\n",
        "# Draw scatter of all points\n",
        "plt.scatter('NO2', 'SO2', data = no2_so2);\n",
        "\n",
        "plt.show()"
      ],
      "metadata": {
        "id": "3ax6tjQqw7tw"
      },
      "execution_count": null,
      "outputs": []
    },
    {
      "cell_type": "markdown",
      "source": [
        "## Lots of bootstraps with beeswarms\n",
        "As a current resident of Cincinnati, you're curious to see how the average NO2 values compare to Des Moines, Indianapolis, and Houston: a few other cities you've lived in.\n",
        "\n",
        "To look at this, you decide to use bootstrap estimation to look at the mean NO2 values for each city. Because the comparisons are of primary interest, you will use a swarm plot to compare the estimates.\n",
        "\n",
        "The DataFrame pollution_may is provided along with the bootstrap() function seen in the slides for performing your bootstrap resampling."
      ],
      "metadata": {
        "id": "BqXNKo2xw_in"
      }
    },
    {
      "cell_type": "code",
      "source": [
        "# Initialize a holder DataFrame for bootstrap results\n",
        "city_boots = pd.DataFrame()\n",
        "\n",
        "for city in ['Cincinnati', 'Des Moines', 'Indianapolis', 'Houston']:\n",
        "    # Filter to city\n",
        "    city_NO2 = pollution_may[pollution_may.city  ==  city].NO2\n",
        "    # Bootstrap city data & put in DataFrame\n",
        "    cur_boot = pd.DataFrame({'NO2_avg': bootstrap(city_NO2, 100), 'city': city})\n",
        "    # Append to other city's bootstraps\n",
        "    city_boots = pd.concat([city_boots,cur_boot])\n",
        "\n",
        "# Beeswarm plot of averages with citys on y axis\n",
        "sns.swarmplot(y = \"city\", x = \"NO2_avg\", data = city_boots, color = 'coral');\n",
        "\n",
        "plt.show()"
      ],
      "metadata": {
        "id": "11pE5y92w_mI"
      },
      "execution_count": null,
      "outputs": []
    },
    {
      "cell_type": "markdown",
      "source": [
        "# Visualization in the data science workflow"
      ],
      "metadata": {
        "id": "xQNqvV2WxExM"
      }
    },
    {
      "cell_type": "markdown",
      "source": [
        "## Looking at the farmers market data\n",
        "Loaded is a new dataset, markets. Each row of this DataFrame belongs to an individual farmers market in the continental United States with various information about the market contained in the columns. In this exercise, explore the columns of the data to get familiar with them for future analysis and plotting.\n",
        "\n",
        "As a first step, print out the first three lines of markets to get an idea of what type of data the columns encode. Then look at the summary descriptions of all of the columns. Since there are so many columns in the DataFrame, you'll want to turn the results 'sideways' by transposing the output to avoid cutting off rows."
      ],
      "metadata": {
        "id": "hqW1CClhxHi_"
      }
    },
    {
      "cell_type": "code",
      "source": [
        "# Print first three rows of data and transpose\n",
        "first_rows = markets.head(3).transpose()\n",
        "print(first_rows)\n",
        "\n",
        "# Get descriptions of every columns\n",
        "col_descriptions = markets.describe(include='all',\n",
        "                                   percentiles=[0.5]).transpose()\n",
        "print(col_descriptions)"
      ],
      "metadata": {
        "id": "sCExj1Q6xE0Z"
      },
      "execution_count": null,
      "outputs": []
    },
    {
      "cell_type": "markdown",
      "source": [
        "## Scatter matrix of numeric columns\n",
        "You've investigated the new farmer's market data, and it's rather wide – with lots of columns of information for each market's row. Rather than painstakingly going through every combination of numeric columns and making a scatter plot to look at correlations, you decide to make a scatter matrix using the pandas built-in function.\n",
        "\n",
        "Increasing the figure size with the figsize argument will help give the dense visualization some breathing room. Since there will be a lot of overlap for the points, decreasing the point opacity will help show the density of these overlaps."
      ],
      "metadata": {
        "id": "EJxtwuQKxPFA"
      }
    },
    {
      "cell_type": "code",
      "source": [
        "# Select just the numeric columns (excluding individual goods)\n",
        "numeric_columns = ['lat', 'lon', 'months_open', 'num_items_sold', 'state_pop']\n",
        "\n",
        "# Make a scatter matrix of numeric columns\n",
        "pd.plotting.scatter_matrix(markets[numeric_columns],\n",
        "                          # Make figure larget to show details\n",
        "                          figsize=(15, 10),\n",
        "                           # Lower point opacity to show overlap\n",
        "                           alpha=0.5,\n",
        "                          );\n",
        "\n",
        "plt.show()"
      ],
      "metadata": {
        "id": "RBih31u8xPI6"
      },
      "execution_count": null,
      "outputs": []
    },
    {
      "cell_type": "markdown",
      "source": [
        "## Digging in with basic transforms\n",
        "You are curious to see if the population of a state correlates to the number of items sold at farmer's markets. To check this, take the log of the population and draw a scatter plot against the number of items sold by a market. From your previous explorations of the dataset, you know there will be a lot of overlap, so to get a better handle on the patterns you want to reduce the marker opacity."
      ],
      "metadata": {
        "id": "n1zLMSD7xSmt"
      }
    },
    {
      "cell_type": "code",
      "source": [
        "# Create a new logged population column\n",
        "markets['log_pop'] = np.log(markets['state_pop'])\n",
        "\n",
        "# Draw a scatterplot of log-population to # of items sold\n",
        "sns.scatterplot(x='log_pop',\n",
        "                y='num_items_sold',\n",
        "                # Reduce point opacity to show overlap\n",
        "                alpha=0.25,\n",
        "                data=markets\n",
        "               );\n",
        "\n",
        "plt.show()"
      ],
      "metadata": {
        "id": "J-0q67vmxSsI"
      },
      "execution_count": null,
      "outputs": []
    },
    {
      "cell_type": "markdown",
      "source": [
        "## Is latitude related to months open?\n",
        "While exploring the farmers market dataset with a scatter matrix, you noticed a potentially interesting relationship between a market's latitude and the number of months it stays open. Digging into this relationship a bit further, you decide to use Seaborn's regression plot to see if there's any weight to this pattern or if the heavy overlap of the points is playing tricks on your eyes.\n",
        "\n",
        "To make the regression line stand out, you'll want to lower the overlapping background points opacity and color them a muted gray. Since you're not going to be making any formal inference and want to quickly investigate a pattern, you can turn off the default uncertainty band."
      ],
      "metadata": {
        "id": "DBmUEyMixWIH"
      }
    },
    {
      "cell_type": "code",
      "source": [
        "sns.regplot(x='lat',\n",
        "            y='months_open',\n",
        "            # Set scatter point opacity & color\n",
        "           scatter_kws={'alpha':0.1, 'color':'gray'},\n",
        "           # Disable confidence band\n",
        "           ci=False,\n",
        "           data=markets)\n",
        "\n",
        "plt.show()"
      ],
      "metadata": {
        "id": "m4PN5wc5xXCI"
      },
      "execution_count": null,
      "outputs": []
    },
    {
      "cell_type": "markdown",
      "source": [
        "## What state is the most market-friendly?\n",
        "While exploring the farmer's market data, you wonder what patterns may show up if you aggregated to the state level. Are some states more market-friendly than other states? To investigate this, you group your data by state and get the log-transformed number of markets (log_markets) and state populations (log_pop).\n",
        "\n",
        "```\n",
        "markets_and_pop = (markets\n",
        "    .groupby('state', as_index = False)\n",
        "    .agg({\n",
        "       'name': lambda d: log(len(d)),\n",
        "       'state_pop': lambda d: log(d.iloc[0]) })\n",
        "    .rename(columns = {\n",
        "        'name': 'log_markets', \n",
        "        'state_pop': 'log_pop' }))\n",
        "\n",
        "```\n",
        "To visualize, you decide to use a regression plot to get an idea of the 'normal' relationship between market and population numbers and a text-scatter to quickly identify interesting outliers."
      ],
      "metadata": {
        "id": "Qd7yab0GxciQ"
      }
    },
    {
      "cell_type": "code",
      "source": [
        "g = sns.regplot(\n",
        "    \"log_markets\", \"log_pop\", \n",
        "    ci = False,\n",
        "    # Shrink scatter plot points\n",
        "    scatter_kws = {'s':2},\n",
        "    data = markets_and_pop)\n",
        "\n",
        "# Iterate over the rows of the data\n",
        "for _, row in markets_and_pop.iterrows():\n",
        "    state, _, _, log_markets, log_pop = row\n",
        "    # Place annotation and reduce size for clarity\n",
        "    g.annotate(state, (log_markets,log_pop), size = 10)\n",
        "\n",
        "plt.show()"
      ],
      "metadata": {
        "id": "yyQq5bF2xcml"
      },
      "execution_count": null,
      "outputs": []
    },
    {
      "cell_type": "markdown",
      "source": [
        "## Popularity of goods sold by state\n",
        "The farmer's market dataset contains columns corresponding to 28 different goods and whether or not they are sold at that market. You're curious to see if there are any interesting stories in this dataset regarding how likely you are to find a given good at a state's markets. To answer this question, you collapse the data into three columns:\n",
        "\n",
        "state - the name of the state\n",
        "good - the good of interest\n",
        "prop_selling - the proportion of markets in that state that sell that good\n",
        "To quickly determine if patterns emerge, you choose a subset of goods you find interesting and decide to make a simple text-scatter: the good on the x-axis and the proportion of a state's markets that sell that good on the y-axis."
      ],
      "metadata": {
        "id": "MPu5JqVOxs5a"
      }
    },
    {
      "cell_type": "code",
      "source": [
        "fig, ax = plt.subplots(figsize=(10, 10))\n",
        "# Subset goods to interting ones\n",
        "to_plot = ['Cheese', 'Maple', 'Fruits', 'Grains', 'Seafood', 'Plants', 'Vegetables']\n",
        "goods_by_state_small = goods_by_state.query('good in ' + str(to_plot))\n",
        "\n",
        "g = sns.scatterplot('good','prop_selling', data = goods_by_state_small,\n",
        "                    # Hide scatter points by shrinking to nothing\n",
        "                    s = 0, ax=ax)\n",
        "\n",
        "for _,row in goods_by_state_small.iterrows():\n",
        "    g.annotate(row['state'], (row['good'], row['prop_selling']), \n",
        "             # Center annotation on axis\n",
        "             ha = 'center', \n",
        "             size = 10)\n",
        "\n",
        "plt.show()"
      ],
      "metadata": {
        "id": "DdTxLGBaxs9k"
      },
      "execution_count": null,
      "outputs": []
    },
    {
      "cell_type": "markdown",
      "source": [
        "## Stacking to find trends\n",
        "In the farmers market dataset, you are interested in the number of months that a market stays open in relation to its geography, more specifically its longitude. You're curious to see if there are any regions of the country that behave noticeably different from the others.\n",
        "\n",
        "To do this, you create a basic map with a scatter plot of the latitude and longitude of each market, coloring each market by the number of months it's open. Further digging into the latitude relationship, you draw a regression plot of the latitude to the number of months open with a flexible fit line to determine if any trends appear. You want to view these simultaneously to get the clearest picture of the trends."
      ],
      "metadata": {
        "id": "hf7kjG5mxxEw"
      }
    },
    {
      "cell_type": "code",
      "source": [
        "# Setup two stacked plots\n",
        "_, (ax1, ax2) = plt.subplots(2, 1, figsize=(10, 10))\n",
        "\n",
        "# Draw location scatter plot on first plot\n",
        "sns.scatterplot(\"lon\", \"lat\", \"months_open\",\n",
        "               palette=sns.light_palette(\"orangered\", n_colors=12),\n",
        "               legend=False, data=markets,\n",
        "               ax=ax1);\n",
        "\n",
        "# Plot a regression plot on second plot\n",
        "sns.regplot(\"lon\", \"months_open\",\n",
        "           scatter_kws={'alpha':0.2, 'color':'gray', 'marker': '|'},\n",
        "           lowess=True,\n",
        "           marker='|', data=markets,\n",
        "           ax=ax2);\n",
        "\n",
        "plt.show()"
      ],
      "metadata": {
        "id": "CbbsbbZLxxIR"
      },
      "execution_count": null,
      "outputs": []
    },
    {
      "cell_type": "markdown",
      "source": [
        "## Using a plot as a legend\n",
        "One interesting thread of investigation in the farmer's market data is a state's \"market friendliness\" and specifically, the outliers. One way to look at this is by using the ratio of farmer's markets to people by state. You could directly look at the ratio; however, a ratio throws away the raw information about a state's population and the number of markets. A large state with a high ratio could be more interesting than a small one.\n",
        "\n",
        "You can show both the ratio and raw numbers by drawing two plots, one of the ratio and the other of the market number to population scatter plot. To help simplify your now dense visualization, you can use the bar plot as a legend; calling out interesting states by matching the colors of their bars and scatter points."
      ],
      "metadata": {
        "id": "lFWReB2Hx2Mj"
      }
    },
    {
      "cell_type": "code",
      "source": [
        "# Set up two side-by-side plots\n",
        "f, (ax1, ax2) = plt.subplots(1, 2, figsize=(15, 15))\n",
        "\n",
        "# Map the column for selected states to the bar color\n",
        "sns.barplot('people_per_market', 'state', hue='is_selected',\n",
        "           # Disable dodge so bars are full size\n",
        "           dodge=False,\n",
        "           data=markets_by_state, ax=ax1);\n",
        "\n",
        "# Map selected states to point color\n",
        "sns.scatterplot('log_pop', 'log_markets', hue='is_selected',\n",
        "               data=markets_by_state, ax=ax2, s=100);\n",
        "\n",
        "# Remove the legend for both plots\n",
        "ax1.legend_.remove()\n",
        "ax2.legend_.remove()\n",
        "plt.show() "
      ],
      "metadata": {
        "id": "dNGC0GvQx2QU"
      },
      "execution_count": null,
      "outputs": []
    },
    {
      "cell_type": "markdown",
      "source": [
        "## Cleaning up the background\n",
        "While exploring state-level patterns in goods sold at farmer's markets, a few states stood out to you. North Dakota and New Mexico routinely fell near the bottom of the states regarding their proportion of farmer's markets selling a given good. Whereas Vermont was always near the top. You want to present the general patterns in good sales by state, while also highlighting the states you found interesting.\n",
        "\n",
        "You make a scatter plot of goods being sold by the proportion of markets that sell that good in a state. To highlight the interesting states, you draw a line between each of the state's points. To make a clean and minimal plot, you reduce the background to a simple set of orienting grids.\n",
        "\n"
      ],
      "metadata": {
        "id": "RSqTAG_4x58Y"
      }
    },
    {
      "cell_type": "code",
      "source": [
        "# Set background to white with grid\n",
        "sns.set_style('whitegrid')\n",
        "\n",
        "plt.scatter('good','prop selling', marker = '_', alpha = 0.7, data = goods_by_state)\n",
        "\n",
        "# Draw lines across goods for highlighted states\n",
        "highlighted = goods_by_state.query(\"state in ['New Mexico','North Dakota','Vermont']\")\n",
        "sns.lineplot('good','prop selling', 'state', data = highlighted, legend = False)\n",
        "\n",
        "# Draw state name at end of lines\n",
        "last_rows = highlighted.groupby('state', as_index = False).agg('first')\n",
        "for _,row in last_rows.iterrows():\n",
        "    plt.annotate(row['state'], (row['good'], row['prop selling']),\n",
        "                 ha = 'right', xytext = (5,0), textcoords = 'offset pixels')\n",
        "\n",
        "# Remove all borders\n",
        "sns.despine(bottom = True, left = True)\n",
        "plt.show()"
      ],
      "metadata": {
        "id": "aqV1RNBGx6AU"
      },
      "execution_count": null,
      "outputs": []
    },
    {
      "cell_type": "markdown",
      "source": [
        "## Remixing a plot\n",
        "You find the relationship between the latitude of a farmer's market and the number of months the market was open fascinating. Intuitively as one gets further South, the growing seasons are longer, and thus the markets can stay open longer. To visualize this story, you summarize the market data at the state level and draw a heatmap with columns corresponding to the duration the markets are open. Each row in the heatmap shows the distribution of the market \"season\" for a state and rows are sorted in descending order of the state's latitude.\n",
        "\n",
        "The default heatmap leaves a lot to be desired. Decrease the font size to allow each state name to fit without overlap. The dark color palette also clashes with the light background, and the colorbar doesn't help the reader as the point is relative comparisons."
      ],
      "metadata": {
        "id": "a2oilkgox-x7"
      }
    },
    {
      "cell_type": "code",
      "source": [
        "# Decrease font size so state names are less crowded\n",
        "sns.set(font_scale = 0.85)\n",
        "\n",
        "# Switch to an appropriate color palette\n",
        "blue_pal = sns.light_palette(\"steelblue\", as_cmap = True)\n",
        "\n",
        "# Order states by latitude\n",
        "g = sns.heatmap(markets_by_month.reindex(state_by_lat), \n",
        "            # Add gaps between cells\n",
        "            linewidths = 0.1, \n",
        "            # Set new palette and remove color bar \n",
        "            cmap = blue_pal, cbar = False,\n",
        "            yticklabels = True)\n",
        "\n",
        "# Rotate y-axis ticks \n",
        "g.set_yticklabels(g.get_yticklabels(), rotation = 0)\n",
        "plt.title('Distribution of months open for farmers markets by latitude')\n",
        "plt.show()"
      ],
      "metadata": {
        "id": "bkqtAp_jx-1W"
      },
      "execution_count": null,
      "outputs": []
    },
    {
      "cell_type": "markdown",
      "source": [
        "## Enhancing legibility\n",
        "You and your colleagues have decided that the most important aspect of the data you want to show is the differences between the most \"market-friendly\" state, Vermont, and the least, Texas. To do this, put two plots side by side – a barplot showing the number of people per farmer's market in the state and a scatter plot showing the population on the x-axis and the number of markets on the y-axis.\n",
        "\n",
        "Emphasize your findings by calling out Vermont and Texas by assigning them distinct colors. Also, provide a large and easy to read annotation for Texas.\n",
        "\n",
        "Supplied is a vector state_colors that assigns Vermont and Texas unique colors and all other states gray along with the annotation describing Texas, tx_message."
      ],
      "metadata": {
        "id": "xmyxIqOKyESQ"
      }
    },
    {
      "cell_type": "code",
      "source": [
        "# Draw barplot w/ colors mapped to state_colors vector\n",
        "sns.barplot('people_per_market', 'state', palette = state_colors,\n",
        "            data = markets_by_state, ax = ax1)\n",
        "\n",
        "# Map state colors vector to the scatterplot as well\n",
        "p = sns.scatterplot('population', 'num_markets', hue = state_colors,\n",
        "                    data = markets_by_state, s = 60, ax = ax1, c = state_colors)\n",
        "\n",
        "# Log the x and y scales of our scatter plot so it's easier to read\n",
        "ax2.set(xscale = \"log\", yscale = 'log')\n",
        "\n",
        "# Increase annotation text size for legibility\n",
        "ax2.annotate(tx_message, xy = (26956958,230), \n",
        "             xytext = (26956958, 450),ha = 'right', \n",
        "             size = 15, backgroundcolor = 'white',\n",
        "             arrowprops = {'facecolor':'black', 'width': 3})\n",
        "sns.set_style('whitegrid')\n",
        "plt.show()"
      ],
      "metadata": {
        "id": "qlYEfvjlyEWV"
      },
      "execution_count": null,
      "outputs": []
    }
  ]
}